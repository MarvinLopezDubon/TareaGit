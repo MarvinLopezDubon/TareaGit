{
 "cells": [
  {
   "cell_type": "markdown",
   "metadata": {},
   "source": [
    "#### Marvin Eduardo López Dubón Carne 14006749 \n",
    "#### Ciencia de Datos en Python \n",
    "#### Universidad Galileo"
   ]
  },
  {
   "cell_type": "markdown",
   "metadata": {},
   "source": [
    "# Resumen Herramienta GIT"
   ]
  },
  {
   "cell_type": "markdown",
   "metadata": {},
   "source": [
    "#### GIT \n",
    "Es una herramienta de sistema de control que es utilizada para realizar un seguimiento de los cambios en el código fuente u otras colecciones de archivos o carpetas y, como su nombre lo indica, esta herramienta ayuda a rastrear el historial de cambios en algún conjunto de documentos y además de hacer grupos de personas en un proyecto de software. Git es una herramienta que puede ser utilizada en proyectos con otras personas por lo que se útil para enviar parches de código para resolver conflictos cuando diferentes personas están trabajando en la misma pieza de código en él. Básicamente como su descripción lo indica controla cada paso que se hace en los proyectos, desde quien edita o cambia una línea, cuando fue, etc. ",
   ]
  },
  {
   "cell_type": "markdown",
   "metadata": {},
   "source": [
    "#### Dentro de la terminologia de Git existen los \"Trees\", \"Blob\", \"Snapshot\" entre otros:\n",
    "1. Trees: Son basicamente directorios que contienen mas elementos y pueden contener dentro mas Trees\n",
    "2. Blob: Son archivos ejecutables contenidos dentro un directorio y pueden contener dentro mas data pero no Trees\n",
    "3. Snapshot: Es el tree del nivel mas alto en el que estamos rastreando los cambios a las versiones"
   ]
  },
  {
   "cell_type": "markdown",
   "metadata": {},
   "source": [
    "#### Este versionamiento se realiza desde la terminal de GIT a base de comandos, se pueden guardar copias del mismo snapshot o remplazar las versiones anteriores.\n",
    "#### Esto nos sirve bastante si queremos trabajar varias implementaciones desde una version inicial para no tener que copiar todo el codigo base y simplemente agarrar la ultima version de los bloques de codigo que ha sido completada o verificada. Tambien es posible optar por varios caminos de trabajro desde una version, esto se realiza haciendo varias branches de codigo provenientes del mismo snapshot parent \n",
    "Se encuentra dividido en partes por ejemplo la de nivel superior se llama Arboles y es una carpeta, “Tree” (Folder). Lo que normalmente se llaman archivos se denominan como Blogs, teniendo esto en cuenta ya se tiene un modelo de archivos y carpetas y es una estructura de datos recursiva. De los arboles se pueden obtener otros arboles y luego pueden contener tanto arboles como archivos, pero los archivos no pueden tener arboles y a esto se le llama modelo de archivos. \n",
    "Una vez se tenga un modelo de archivos y carpetas, puede imaginar una forma de tomar una copia de todo esto y luego la historia es solo una secuencia lineal de instantáneas como imagina que es posible, se puede pensar como si tuviera copias de las carpetas. \n",
    "Git tiene su manera de ramificar la historia en dos Forks separados y trabajar en diferentes cosas en paralelo temporalmente de una manera que no están relacionadas con otro para poder tomar una instantánea base como si mi proyecto estuviera en algún estado donde funciona y luego mas adelante poder implementar una nueva característica que crea una nueva instantánea, por lo que crea el proyecto base mas una nueva función.  \n",
    "Función Hash: función mágica que toma una gran pieza de datos y la convierte en una cadena corta a un alto nivel. \n",
   ]
  },
  {
   "cell_type": "markdown",
   "metadata": {},
   "source": [
    "#### A continuacion se muestran algunos comandos que se pueden utilizar en la terminal de git"
   ]
  },
  {
   "cell_type": "markdown",
   "metadata": {},
   "source": [
    "* Git Clone: Este comando es utilizado para descargar el codigo fuente desde un repositorio remoto\n",
    "\n",
    "            por ejemplo: git clone <https://name-of-the-repository-link>\n",
    "            \n",
    "            A continuacion se muestra un link a un repositorio de github\n",
    "[Link](<https://github.com/stypr/clubhouse-py>)\n",
    "           \n",
    "           "
   ]
  },
  {
   "cell_type": "markdown",
   "metadata": {},
   "source": [
    "* Git Branch: Este comando creara un branch local, de esta manera varios desarrolladores pueden trabajar sobre el mismo proyecto simultaneamente sin alterar el trabajo de sus compañeros. Para empujar esta nueva branch al repositorio remoto es necesario emplear este comando.\n",
    "\n",
    "            git push -u <remote> <branch-name>"
   ]
  },
  {
   "cell_type": "markdown",
   "metadata": {},
   "source": [
    "* Git Checkout: Para trabajar en un branch primero es necesario definir que se va a trabajar en este branch, de esta manera se puede cambiar de branch de trabajo a conveniencia, tambien se puede usar este comando para descartar cambios realizados en la version."
   ]
  },
  {
   "cell_type": "markdown",
   "metadata": {},
   "source": [
    "* Git Status: Nos provee la informacion para saber el estado actual del Branch\n",
    "    + Si esta actualizada la branch\n",
    "    + Si hay algo que falta hacer commit, push o pull\n",
    "    + Si hay archivos en el stage\n",
    "    + Si hay archivos creados, modificados o borrados"
   ]
  }
 ],
 "metadata": {
  "kernelspec": {
   "display_name": "Python 3",
   "language": "python",
   "name": "python3"
  },
  "language_info": {
   "codemirror_mode": {
    "name": "ipython",
    "version": 3
   },
   "file_extension": ".py",
   "mimetype": "text/x-python",
   "name": "python",
   "nbconvert_exporter": "python",
   "pygments_lexer": "ipython3",
   "version": "3.8.5"
  }
 },
 "nbformat": 4,
 "nbformat_minor": 4
}
