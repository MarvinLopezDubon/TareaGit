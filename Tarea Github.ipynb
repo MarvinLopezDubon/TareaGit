{
 "cells": [
  {
   "cell_type": "markdown",
   "metadata": {},
   "source": [
    "#### Marvin Eduardo López Dubón Carne 14006749 \n",
    "#### Ciencia de Datos en Python"
    "#### Universidad Galileo"
   ]
  },
  {
   "cell_type": "markdown",
   "metadata": {},
   "source": [
    "# Resumen Herramienta GIT"
   ]
  },
  {
   "cell_type": "markdown",
   "metadata": {},
   "source": [
    "#### Git es una herramienta de gestionamiento de control utilizada en conjunto con GitHub para almacenar versiones de codigo en repositorios, de esta manera es posible compartir las versiones de codigo con grupos de trabajo y definir tareas entre los grupos para que cada persona se encargue de una responsabilidad diferente dentro del codigo"
   ]
  },
  {
   "cell_type": "markdown",
   "metadata": {},
   "source": [
    "#### Dentro de la terminologia de Git existen los \"Trees\", \"Blob\", \"Snapshot\" entre otros:\n",
    "1. Trees: Son basicamente directorios que contienen mas elementos y pueden contener dentro mas Trees\n",
    "2. Blob: Son archivos ejecutables contenidos dentro un directorio y pueden contener dentro mas data pero no Trees\n",
    "3. Snapshot: Es el tree del nivel mas alto en el que estamos rastreando los cambios a las versiones"
   ]
  },
  {
   "cell_type": "markdown",
   "metadata": {},
   "source": [
    "#### Este versionamiento se realiza desde la terminal de GIT a base de comandos, se pueden guardar copias del mismo snapshot o remplazar las versiones anteriores.\n",
    "#### Esto nos sirve bastante si queremos trabajar varias implementaciones desde una version inicial para no tener que copiar todo el codigo base y simplemente agarrar la ultima version de los bloques de codigo que ha sido completada o verificada. Tambien es posible optar por varios caminos de trabajro desde una version, esto se realiza haciendo varias branches de codigo provenientes del mismo snapshot parent"
   ]
  },
  {
   "cell_type": "markdown",
   "metadata": {},
   "source": [
    "#### A continuacion se muestran algunos comandos que se pueden utilizar en la terminal de git"
   ]
  },
  {
   "cell_type": "markdown",
   "metadata": {},
   "source": [
    "* Git Clone: Este comando es utilizado para descargar el codigo fuente desde un repositorio remoto\n",
    "\n",
    "            por ejemplo: git clone <https://name-of-the-repository-link>\n",
    "            \n",
    "            A continuacion se muestra un link a un repositorio de github\n",
    "[Link](<https://github.com/stypr/clubhouse-py>)\n",
    "           \n",
    "           "
   ]
  },
  {
   "cell_type": "markdown",
   "metadata": {},
   "source": [
    "* Git Branch: Este comando creara un branch local, de esta manera varios desarrolladores pueden trabajar sobre el mismo proyecto simultaneamente sin alterar el trabajo de sus compañeros. Para empujar esta nueva branch al repositorio remoto es necesario emplear este comando.\n",
    "\n",
    "            git push -u <remote> <branch-name>"
   ]
  },
  {
   "cell_type": "markdown",
   "metadata": {},
   "source": [
    "* Git Checkout: Para trabajar en un branch primero es necesario definir que se va a trabajar en este branch, de esta manera se puede cambiar de branch de trabajo a conveniencia, tambien se puede usar este comando para descartar cambios realizados en la version."
   ]
  },
  {
   "cell_type": "markdown",
   "metadata": {},
   "source": [
    "* Git Status: Nos provee la informacion para saber el estado actual del Branch\n",
    "    + Si esta actualizada la branch\n",
    "    + Si hay algo que falta hacer commit, push o pull\n",
    "    + Si hay archivos en el stage\n",
    "    + Si hay archivos creados, modificados o borrados"
   ]
  }
 ],
 "metadata": {
  "kernelspec": {
   "display_name": "Python 3",
   "language": "python",
   "name": "python3"
  },
  "language_info": {
   "codemirror_mode": {
    "name": "ipython",
    "version": 3
   },
   "file_extension": ".py",
   "mimetype": "text/x-python",
   "name": "python",
   "nbconvert_exporter": "python",
   "pygments_lexer": "ipython3",
   "version": "3.8.5"
  }
 },
 "nbformat": 4,
 "nbformat_minor": 4
}
